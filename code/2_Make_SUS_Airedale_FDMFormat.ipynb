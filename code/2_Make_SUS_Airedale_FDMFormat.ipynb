{
 "cells": [
  {
   "cell_type": "code",
   "execution_count": 4,
   "id": "269071d4-4a53-474d-9fd9-6605e3f453dd",
   "metadata": {},
   "outputs": [
    {
     "name": "stdout",
     "output_type": "stream",
     "text": [
      "[1] \"yhcr-prd-phm-bia-core.CB_MYSPACE_JDB\"\n",
      "[1] \"yhcr-prd-phm-bia-core.CB_STAGING_DATABASE_SUS_Airedale_FDM_Format\"\n"
     ]
    }
   ],
   "source": [
    "#Make_SUS_Airedale_FDM_Format.ipynb\n",
    "##last modified 20230309 \n",
    "\n",
    "#Builds the BDCT SUS FDM\n",
    "#Assumes that the targetdb below exists\n",
    "#Needs code to build it if it doesn't\n",
    "\n",
    "#You will need to manually amend the target dataset for this script\n",
    "\n",
    "library(bigrquery)\n",
    "library(lubridate) \n",
    "\n",
    "# Store the project ID\n",
    "project_id = \"yhcr-prd-phm-bia-core\"\n",
    "\n",
    "sourcedb <-\"yhcr-prd-phm-bia-core.CB_MYSPACE_JDB\"\n",
    "targetdb <-'yhcr-prd-phm-bia-core.CB_STAGING_DATABASE_SUS_Airedale_FDM_Format'\n",
    "lookups <-'yhcr-prd-phm-bia-core.CB_LOOKUPS'\n",
    "targetdb <-gsub(' ','',targetdb)\n",
    "print (sourcedb) \n",
    "print (targetdb)\n",
    "print(lookups)"
   ]
  },
  {
   "cell_type": "code",
   "execution_count": null,
   "id": "dc7ac8a0-05af-4fb4-9663-ba8f5b6955e7",
   "metadata": {},
   "outputs": [],
   "source": [
    "# Set teh date fro this to teh last date you downloaded the data \n",
    "\n",
    "sql7 <-paste('update ',lookups,'.tbl_Dataset_ExtractDateRef \n",
    "set extract_date = \\\"2023-05-09\\\" where DatasetName = \\\"CB_STAGING_DATABASE_SUS_Airedale_FDM_Format\\\"', sep = \"\")\n",
    "tb7 <-bq_project_query(project_id, sql7)\n",
    "print(tb5)\n"
   ]
  },
  {
   "cell_type": "code",
   "execution_count": 20,
   "id": "5703770b-c9d0-4d6e-981b-35cb92ab51cb",
   "metadata": {},
   "outputs": [
    {
     "name": "stdout",
     "output_type": "stream",
     "text": [
      "[1] \"tables deleted from target\"\n"
     ]
    }
   ],
   "source": [
    "sql4 <-paste('drop table if exists ',targetdb,'.tbl_SUS_Airedale_APC_20220601_to_Current;', sep = \"\")\n",
    "tb4 <-bq_project_query(project_id, sql4)\n",
    "\n",
    "\n",
    "\n",
    "sql5 <-paste('drop table if exists ',targetdb,'.tbl_SUS_Airedale_OP_20220601_to_Current;', sep = \"\")\n",
    "tb5 <-bq_project_query(project_id, sql5)\n",
    "\n",
    "sql6 <-paste('drop table if exists ',targetdb,'.tbl_SUS_Airedale_ECDS_20220601_to_Current;', sep = \"\")\n",
    "tb6 <-bq_project_query(project_id, sql6)\n",
    "\n",
    "print(\"tables deleted from target\")"
   ]
  },
  {
   "cell_type": "code",
   "execution_count": 7,
   "id": "99c3357b-5ce9-45d5-b892-324353e03210",
   "metadata": {},
   "outputs": [
    {
     "name": "stdout",
     "output_type": "stream",
     "text": [
      "<bq_table> yhcr-prd-phm-bia-core.CB_LOOKUPS.tbl_Dataset_ExtractDateRef\n"
     ]
    }
   ],
   "source": []
  },
  {
   "cell_type": "code",
   "execution_count": 21,
   "id": "dd696fec-017a-4949-9c36-e9633245d1d1",
   "metadata": {},
   "outputs": [
    {
     "name": "stdout",
     "output_type": "stream",
     "text": [
      "[1] \"APC Built\"\n"
     ]
    }
   ],
   "source": [
    "sql8 <-paste('create TABLE ', targetdb , '.tbl_SUS_Airedale_APC_20220601_to_Current \n",
    "as \n",
    "SELECT \n",
    "dem.person_id,\n",
    "cast(left(admdate,4)||\\'-\\'||substring(admdate,5,2)||\\'-\\'|| substring(admdate,7,2)||\\' 00:00:00\\' as datetime) as src_SUS_Airedale_APC_20220601_to_Current_start_date,\n",
    "cast(left(dischdate,4)||\\'-\\'||substring(dischdate,5,2)||\\'-\\'|| substring(dischdate,7,2)||\\' 00:00:00\\' as datetime)  as src_SUS_Airedale_APC_20220601_to_Current_end_date,\n",
    "src.* FROM ', sourcedb,'.src_SUS_Airedale_APC_20220601_to_Current src \n",
    "left join yhcr-prd-phm-bia-core.CB_STAGING_DATABASE.src_DemoGraphics_MASTER dem\n",
    "on src.digest = dem.digest ;', sep = \"\")\n",
    "tb8 <-bq_project_query(project_id, sql8)\n",
    "\n",
    "print(\"APC Built\")"
   ]
  },
  {
   "cell_type": "code",
   "execution_count": 24,
   "id": "a5c6f63f-7e8d-4f3c-8f7b-688ab026a0de",
   "metadata": {},
   "outputs": [
    {
     "name": "stdout",
     "output_type": "stream",
     "text": [
      "[1] \"ECDS Built\"\n"
     ]
    }
   ],
   "source": [
    "sql9<-paste('create TABLE ', targetdb , '.tbl_SUS_Airedale_ECDS_20220601_to_Current \n",
    "as \n",
    "SELECT \n",
    "dem.person_id,\n",
    "cast(arrival_date ||\\' \\' || arrival_time as datetime) as src_SUS_Airedale_ECDS_20220601_to_Current_start_date,\n",
    "cast(depart_date ||\\' \\' || depart_time as datetime) as src_SUS_Airedale_ECDS_20220601_to_Current_end_date,\n",
    "src.* FROM yhcr-prd-phm-bia-core.CB_MYSPACE_JDB.src_SUS_Airedale_ECDS_20220601_to_Current src\n",
    " left join  yhcr-prd-phm-bia-core.CB_STAGING_DATABASE.src_DemoGraphics_MASTER dem\n",
    "on src.digest = dem.digest\n",
    ";', sep = \"\")\n",
    "tb9 <-bq_project_query(project_id, sql9)\n",
    "print(\"ECDS Built\")"
   ]
  },
  {
   "cell_type": "code",
   "execution_count": 29,
   "id": "e92432e3-de0f-444a-952c-216369c7ea99",
   "metadata": {},
   "outputs": [],
   "source": [
    "sql10<-paste('create TABLE ', targetdb , '.tbl_SUS_Airedale_OP_20220601_to_Current \n",
    "as \n",
    "SELECT \n",
    "dem.person_id,\n",
    "cast(left(appdate,4)||\\'-\\'||substring(appdate,5,2)||\\'-\\'|| substring(appdate,7,2)||\\' \\'|| substring(apptime,1,2)||\\':\\'|| substring(apptime,3,2)||\\':00\\'  as datetime) as src_SUS_Airedale_OP_20220601_to_Current_start_date,\n",
    "cast(left(appdate,4)||\\'-\\'||substring(appdate,5,2)||\\'-\\'|| substring(appdate,7,2)||\\' \\'|| substring(apptime,1,2)||\\':\\'|| substring(apptime,3,2)||\\':00\\'  as datetime) as src_SUS_Airedale_OP_20220601_to_Current_end_date,\n",
    "src.* FROM yhcr-prd-phm-bia-core.CB_MYSPACE_JDB.src_SUS_Airedale_OP_20220601_to_Current src \n",
    " left join  `yhcr-prd-phm-bia-core.CB_STAGING_DATABASE.src_DemoGraphics_MASTER` dem\n",
    "on src.digest = dem.digest\n",
    ";', sep = \"\")\n",
    "tb10 <-bq_project_query(project_id, sql10)\n",
    "\n",
    "print(\"OP Built\")"
   ]
  }
 ],
 "metadata": {
  "environment": {
   "kernel": "ir",
   "name": "r-cpu.4-2.m104",
   "type": "gcloud",
   "uri": "gcr.io/deeplearning-platform-release/r-cpu.4-2:m104"
  },
  "kernelspec": {
   "display_name": "R",
   "language": "R",
   "name": "ir"
  },
  "language_info": {
   "codemirror_mode": "r",
   "file_extension": ".r",
   "mimetype": "text/x-r-source",
   "name": "R",
   "pygments_lexer": "r",
   "version": "4.2.2"
  }
 },
 "nbformat": 4,
 "nbformat_minor": 5
}
